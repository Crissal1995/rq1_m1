{
 "cells": [
  {
   "cell_type": "markdown",
   "source": [
    "# Survey Analyzer\n",
    "\n",
    "## Introduction\n",
    "The goal of this notebook is to analyze and inspect the students' mutation tools survey.\n",
    "\n",
    "In this survey 7 (seven) questions were asked to each group of students, to which they could\n",
    "answer with a score from 1 to 5 (and they were allowed also to add some comments to their answer).\n",
    "\n",
    "Block of texts will occur where needed in the notebook.\n",
    "\n",
    "## Import\n",
    "\n",
    "First we need to import `pandas` and read the sheets of the Excel file created ad-hoc for this task.\n",
    "\n",
    "The link to the file is: https://docs.google.com/spreadsheets/d/1pMirFCTNX-HA9h3MX4Y7l-N8eRsp_UkgtNHd4gCEBow\n",
    "\n",
    "Sheet2 contains the results of the survey, while Sheet3 contains our own coverage scores got\n",
    "from the command `defects4j coverage` executed in the three projects under test (Cli32, Gson15, Lang53) roots."
   ],
   "metadata": {
    "collapsed": false,
    "pycharm": {
     "name": "#%% md\n"
    }
   }
  },
  {
   "cell_type": "code",
   "execution_count": 61,
   "metadata": {
    "collapsed": true
   },
   "outputs": [],
   "source": [
    "import pandas as pd\n",
    "\n",
    "survey_original = pd.read_csv(\"survey/Sheet2.csv\")\n",
    "coverage_original = pd.read_csv(\"survey/Sheet3_dev.csv\")"
   ]
  },
  {
   "cell_type": "markdown",
   "source": [
    "Then we need to manipulate these objects, starting from coverage."
   ],
   "metadata": {
    "collapsed": false,
    "pycharm": {
     "name": "#%% md\n"
    }
   }
  },
  {
   "cell_type": "code",
   "execution_count": 62,
   "outputs": [
    {
     "data": {
      "text/plain": "     Tool       Groups Project Coverage (only student)    Unnamed: 4  \\\n0     NaN          NaN     NaN                    Line        Branch   \n1    Judy  D3 D1 A2 B7     Cli                       1  0,9824561404   \n2     NaN  B7 A2 B4 D3    Gson            0,9847715736  0,9787234043   \n3     NaN     B4 D1 A4    Lang                    0,75  0,7542857143   \n4  Jumble  A5 B3 D2 A6     Cli            0,8805970149   0,798245614   \n\n  Coverage (only dev)    Unnamed: 6 Coverage (student + dev)    Unnamed: 8  \n0                Line        Branch                     Line        Branch  \n1        0,9651741294  0,9298245614                        1  0,9824561404  \n2        0,9644670051  0,9361702128             0,9949238579  0,9893617021  \n3        0,9711538462  0,9028571429             0,9759615385  0,9371428571  \n4        0,9651741294  0,9298245614                        1  0,9824561404  ",
      "text/html": "<div>\n<style scoped>\n    .dataframe tbody tr th:only-of-type {\n        vertical-align: middle;\n    }\n\n    .dataframe tbody tr th {\n        vertical-align: top;\n    }\n\n    .dataframe thead th {\n        text-align: right;\n    }\n</style>\n<table border=\"1\" class=\"dataframe\">\n  <thead>\n    <tr style=\"text-align: right;\">\n      <th></th>\n      <th>Tool</th>\n      <th>Groups</th>\n      <th>Project</th>\n      <th>Coverage (only student)</th>\n      <th>Unnamed: 4</th>\n      <th>Coverage (only dev)</th>\n      <th>Unnamed: 6</th>\n      <th>Coverage (student + dev)</th>\n      <th>Unnamed: 8</th>\n    </tr>\n  </thead>\n  <tbody>\n    <tr>\n      <th>0</th>\n      <td>NaN</td>\n      <td>NaN</td>\n      <td>NaN</td>\n      <td>Line</td>\n      <td>Branch</td>\n      <td>Line</td>\n      <td>Branch</td>\n      <td>Line</td>\n      <td>Branch</td>\n    </tr>\n    <tr>\n      <th>1</th>\n      <td>Judy</td>\n      <td>D3 D1 A2 B7</td>\n      <td>Cli</td>\n      <td>1</td>\n      <td>0,9824561404</td>\n      <td>0,9651741294</td>\n      <td>0,9298245614</td>\n      <td>1</td>\n      <td>0,9824561404</td>\n    </tr>\n    <tr>\n      <th>2</th>\n      <td>NaN</td>\n      <td>B7 A2 B4 D3</td>\n      <td>Gson</td>\n      <td>0,9847715736</td>\n      <td>0,9787234043</td>\n      <td>0,9644670051</td>\n      <td>0,9361702128</td>\n      <td>0,9949238579</td>\n      <td>0,9893617021</td>\n    </tr>\n    <tr>\n      <th>3</th>\n      <td>NaN</td>\n      <td>B4 D1 A4</td>\n      <td>Lang</td>\n      <td>0,75</td>\n      <td>0,7542857143</td>\n      <td>0,9711538462</td>\n      <td>0,9028571429</td>\n      <td>0,9759615385</td>\n      <td>0,9371428571</td>\n    </tr>\n    <tr>\n      <th>4</th>\n      <td>Jumble</td>\n      <td>A5 B3 D2 A6</td>\n      <td>Cli</td>\n      <td>0,8805970149</td>\n      <td>0,798245614</td>\n      <td>0,9651741294</td>\n      <td>0,9298245614</td>\n      <td>1</td>\n      <td>0,9824561404</td>\n    </tr>\n  </tbody>\n</table>\n</div>"
     },
     "execution_count": 62,
     "metadata": {},
     "output_type": "execute_result"
    }
   ],
   "source": [
    "coverage_original.head()"
   ],
   "metadata": {
    "collapsed": false,
    "pycharm": {
     "name": "#%%\n"
    }
   }
  },
  {
   "cell_type": "markdown",
   "source": [
    "As we can see, the first row is useless, and the tool column has some Nans because of grouping cells together.\n",
    "\n",
    "In this block below we fix those problems, and also removes the Groups column."
   ],
   "metadata": {
    "collapsed": false,
    "pycharm": {
     "name": "#%% md\n"
    }
   }
  },
  {
   "cell_type": "code",
   "execution_count": 63,
   "metadata": {
    "pycharm": {
     "name": "#%%\n"
    }
   },
   "outputs": [
    {
     "data": {
      "text/plain": "       Project  LineStud  BranchStud   LineDev  BranchDev   LineAll  BranchAll\nTool                                                                          \nJudy       Cli  1.000000    0.982456  0.965174   0.929825  1.000000   0.982456\nJudy      Gson  0.984772    0.978723  0.964467   0.936170  0.994924   0.989362\nJudy      Lang  0.750000    0.754286  0.971154   0.902857  0.975962   0.937143\nJumble     Cli  0.880597    0.798246  0.965174   0.929825  1.000000   0.982456\nJumble    Gson  0.954315    0.872340  0.964467   0.936170  1.000000   1.000000\nJumble    Lang  0.581731    0.531429  0.971154   0.902857  0.990385   0.908571\nMajor      Cli  0.895522    0.894737  0.965174   0.929825  1.000000   0.991228\nMajor     Gson  0.969543    0.978723  0.964467   0.936170  1.000000   1.000000\nMajor     Lang  0.985577    0.982857  0.971154   0.902857  0.985577   0.982857\nPIT        Cli  0.791045    0.745614  0.965174   0.929825  1.000000   0.991228\nPIT       Gson  0.949239    0.797872  0.964467   0.936170  1.000000   1.000000\nPIT       Lang  0.841346    0.817143  0.971154   0.902857  0.995192   0.988571",
      "text/html": "<div>\n<style scoped>\n    .dataframe tbody tr th:only-of-type {\n        vertical-align: middle;\n    }\n\n    .dataframe tbody tr th {\n        vertical-align: top;\n    }\n\n    .dataframe thead th {\n        text-align: right;\n    }\n</style>\n<table border=\"1\" class=\"dataframe\">\n  <thead>\n    <tr style=\"text-align: right;\">\n      <th></th>\n      <th>Project</th>\n      <th>LineStud</th>\n      <th>BranchStud</th>\n      <th>LineDev</th>\n      <th>BranchDev</th>\n      <th>LineAll</th>\n      <th>BranchAll</th>\n    </tr>\n    <tr>\n      <th>Tool</th>\n      <th></th>\n      <th></th>\n      <th></th>\n      <th></th>\n      <th></th>\n      <th></th>\n      <th></th>\n    </tr>\n  </thead>\n  <tbody>\n    <tr>\n      <th>Judy</th>\n      <td>Cli</td>\n      <td>1.000000</td>\n      <td>0.982456</td>\n      <td>0.965174</td>\n      <td>0.929825</td>\n      <td>1.000000</td>\n      <td>0.982456</td>\n    </tr>\n    <tr>\n      <th>Judy</th>\n      <td>Gson</td>\n      <td>0.984772</td>\n      <td>0.978723</td>\n      <td>0.964467</td>\n      <td>0.936170</td>\n      <td>0.994924</td>\n      <td>0.989362</td>\n    </tr>\n    <tr>\n      <th>Judy</th>\n      <td>Lang</td>\n      <td>0.750000</td>\n      <td>0.754286</td>\n      <td>0.971154</td>\n      <td>0.902857</td>\n      <td>0.975962</td>\n      <td>0.937143</td>\n    </tr>\n    <tr>\n      <th>Jumble</th>\n      <td>Cli</td>\n      <td>0.880597</td>\n      <td>0.798246</td>\n      <td>0.965174</td>\n      <td>0.929825</td>\n      <td>1.000000</td>\n      <td>0.982456</td>\n    </tr>\n    <tr>\n      <th>Jumble</th>\n      <td>Gson</td>\n      <td>0.954315</td>\n      <td>0.872340</td>\n      <td>0.964467</td>\n      <td>0.936170</td>\n      <td>1.000000</td>\n      <td>1.000000</td>\n    </tr>\n    <tr>\n      <th>Jumble</th>\n      <td>Lang</td>\n      <td>0.581731</td>\n      <td>0.531429</td>\n      <td>0.971154</td>\n      <td>0.902857</td>\n      <td>0.990385</td>\n      <td>0.908571</td>\n    </tr>\n    <tr>\n      <th>Major</th>\n      <td>Cli</td>\n      <td>0.895522</td>\n      <td>0.894737</td>\n      <td>0.965174</td>\n      <td>0.929825</td>\n      <td>1.000000</td>\n      <td>0.991228</td>\n    </tr>\n    <tr>\n      <th>Major</th>\n      <td>Gson</td>\n      <td>0.969543</td>\n      <td>0.978723</td>\n      <td>0.964467</td>\n      <td>0.936170</td>\n      <td>1.000000</td>\n      <td>1.000000</td>\n    </tr>\n    <tr>\n      <th>Major</th>\n      <td>Lang</td>\n      <td>0.985577</td>\n      <td>0.982857</td>\n      <td>0.971154</td>\n      <td>0.902857</td>\n      <td>0.985577</td>\n      <td>0.982857</td>\n    </tr>\n    <tr>\n      <th>PIT</th>\n      <td>Cli</td>\n      <td>0.791045</td>\n      <td>0.745614</td>\n      <td>0.965174</td>\n      <td>0.929825</td>\n      <td>1.000000</td>\n      <td>0.991228</td>\n    </tr>\n    <tr>\n      <th>PIT</th>\n      <td>Gson</td>\n      <td>0.949239</td>\n      <td>0.797872</td>\n      <td>0.964467</td>\n      <td>0.936170</td>\n      <td>1.000000</td>\n      <td>1.000000</td>\n    </tr>\n    <tr>\n      <th>PIT</th>\n      <td>Lang</td>\n      <td>0.841346</td>\n      <td>0.817143</td>\n      <td>0.971154</td>\n      <td>0.902857</td>\n      <td>0.995192</td>\n      <td>0.988571</td>\n    </tr>\n  </tbody>\n</table>\n</div>"
     },
     "execution_count": 63,
     "metadata": {},
     "output_type": "execute_result"
    }
   ],
   "source": [
    "# take only columns needed and then fill nan values (tool) with forward fill\n",
    "coverage = coverage_original.drop(columns=[\"Groups\"]).iloc[1:,:].fillna(method=\"ffill\")\n",
    "\n",
    "# convert string to float (because of , in number instead of .)\n",
    "coverage.iloc[:, 2:] = coverage.iloc[:, 2:].applymap(lambda x: float(x.replace(\",\", \".\")))\n",
    "\n",
    "# change columns\n",
    "# Line = Line Coverage, Branch = Branch Coverage\n",
    "# All refers to coverage obtained from both Students and original Developers's testsuites\n",
    "coverage.columns = [\"Tool\", \"Project\", \"LineStud\", \"BranchStud\", \"LineDev\", \"BranchDev\", \"LineAll\", \"BranchAll\"]\n",
    "\n",
    "coverage = coverage.set_index(\"Tool\")\n",
    "coverage"
   ]
  },
  {
   "cell_type": "markdown",
   "metadata": {
    "pycharm": {
     "name": "#%% md\n"
    }
   },
   "source": [
    "The `coverage` dataframe has, as possible groups, both project (Cli, Gson, Lang) and tool\n",
    "(Judy, Jumble, Major, Pit).\n",
    "\n",
    "To take into account both of them, we can inspect the ration between Dev and All.\n",
    "Dev takes into account the original dev testsuite, while All both dev and students testsuite.\n",
    "\n",
    "Let's then create some proposal; after some reasoning, we will choose the best candidate.\n",
    "We create them grouping over a key, and then taking the mean as metric."
   ]
  },
  {
   "cell_type": "code",
   "execution_count": 64,
   "metadata": {
    "pycharm": {
     "name": "#%%\n"
    }
   },
   "outputs": [],
   "source": [
    "proposals = [\n",
    "    coverage.groupby([\"Project\"]).mean(),\n",
    "    coverage.groupby([\"Tool\"]).mean(),\n",
    "    coverage.groupby([\"Tool\", \"Project\"]).mean(),\n",
    "    coverage.groupby([\"Project\", \"Tool\"]).mean()\n",
    "]"
   ]
  },
  {
   "cell_type": "markdown",
   "metadata": {
    "pycharm": {
     "name": "#%% md\n"
    }
   },
   "source": [
    "The first dataframe has Project as primary key.\n",
    "\n",
    "This solution blurs the choosen tool into the project, so it can't be the best choice."
   ]
  },
  {
   "cell_type": "code",
   "execution_count": 65,
   "metadata": {
    "pycharm": {
     "name": "#%%\n"
    }
   },
   "outputs": [
    {
     "data": {
      "text/plain": "         LineStud  BranchStud   LineDev  BranchDev   LineAll  BranchAll\nProject                                                                \nCli      0.891791    0.855263  0.965174   0.929825  1.000000   0.986842\nGson     0.964467    0.906915  0.964467   0.936170  0.998731   0.997340\nLang     0.789663    0.771429  0.971154   0.902857  0.986779   0.954286",
      "text/html": "<div>\n<style scoped>\n    .dataframe tbody tr th:only-of-type {\n        vertical-align: middle;\n    }\n\n    .dataframe tbody tr th {\n        vertical-align: top;\n    }\n\n    .dataframe thead th {\n        text-align: right;\n    }\n</style>\n<table border=\"1\" class=\"dataframe\">\n  <thead>\n    <tr style=\"text-align: right;\">\n      <th></th>\n      <th>LineStud</th>\n      <th>BranchStud</th>\n      <th>LineDev</th>\n      <th>BranchDev</th>\n      <th>LineAll</th>\n      <th>BranchAll</th>\n    </tr>\n    <tr>\n      <th>Project</th>\n      <th></th>\n      <th></th>\n      <th></th>\n      <th></th>\n      <th></th>\n      <th></th>\n    </tr>\n  </thead>\n  <tbody>\n    <tr>\n      <th>Cli</th>\n      <td>0.891791</td>\n      <td>0.855263</td>\n      <td>0.965174</td>\n      <td>0.929825</td>\n      <td>1.000000</td>\n      <td>0.986842</td>\n    </tr>\n    <tr>\n      <th>Gson</th>\n      <td>0.964467</td>\n      <td>0.906915</td>\n      <td>0.964467</td>\n      <td>0.936170</td>\n      <td>0.998731</td>\n      <td>0.997340</td>\n    </tr>\n    <tr>\n      <th>Lang</th>\n      <td>0.789663</td>\n      <td>0.771429</td>\n      <td>0.971154</td>\n      <td>0.902857</td>\n      <td>0.986779</td>\n      <td>0.954286</td>\n    </tr>\n  </tbody>\n</table>\n</div>"
     },
     "execution_count": 65,
     "metadata": {},
     "output_type": "execute_result"
    }
   ],
   "source": [
    "proposals[0]"
   ]
  },
  {
   "cell_type": "markdown",
   "metadata": {},
   "source": [
    "The second dataframe has Tool as primary key.\n",
    "\n",
    "This solution leads us to both LineDev and BranchDev constants, so these columns are devoid of information;\n",
    "that's because for every tool we always have three equals rows, that are line and branch coverage\n",
    "for the project under test; because these three rows are equals and replicated over the four tools,\n",
    "then the mean for every tool is equal and therefore the columns are constant.\n",
    "\n",
    "We can make a comparison between Stud and All, because Stud changes its value from group to group (and so\n",
    "from project to project), while All takes into account also Dev testsuite."
   ]
  },
  {
   "cell_type": "code",
   "execution_count": 66,
   "metadata": {
    "pycharm": {
     "name": "#%%\n"
    }
   },
   "outputs": [
    {
     "data": {
      "text/plain": "        LineStud  BranchStud   LineDev  BranchDev   LineAll  BranchAll\nTool                                                                  \nJudy    0.911591    0.905155  0.966932   0.922951  0.990295   0.969654\nJumble  0.805548    0.734005  0.966932   0.922951  0.996795   0.963676\nMajor   0.950214    0.952106  0.966932   0.922951  0.995192   0.991362\nPIT     0.860543    0.786876  0.966932   0.922951  0.998397   0.993266",
      "text/html": "<div>\n<style scoped>\n    .dataframe tbody tr th:only-of-type {\n        vertical-align: middle;\n    }\n\n    .dataframe tbody tr th {\n        vertical-align: top;\n    }\n\n    .dataframe thead th {\n        text-align: right;\n    }\n</style>\n<table border=\"1\" class=\"dataframe\">\n  <thead>\n    <tr style=\"text-align: right;\">\n      <th></th>\n      <th>LineStud</th>\n      <th>BranchStud</th>\n      <th>LineDev</th>\n      <th>BranchDev</th>\n      <th>LineAll</th>\n      <th>BranchAll</th>\n    </tr>\n    <tr>\n      <th>Tool</th>\n      <th></th>\n      <th></th>\n      <th></th>\n      <th></th>\n      <th></th>\n      <th></th>\n    </tr>\n  </thead>\n  <tbody>\n    <tr>\n      <th>Judy</th>\n      <td>0.911591</td>\n      <td>0.905155</td>\n      <td>0.966932</td>\n      <td>0.922951</td>\n      <td>0.990295</td>\n      <td>0.969654</td>\n    </tr>\n    <tr>\n      <th>Jumble</th>\n      <td>0.805548</td>\n      <td>0.734005</td>\n      <td>0.966932</td>\n      <td>0.922951</td>\n      <td>0.996795</td>\n      <td>0.963676</td>\n    </tr>\n    <tr>\n      <th>Major</th>\n      <td>0.950214</td>\n      <td>0.952106</td>\n      <td>0.966932</td>\n      <td>0.922951</td>\n      <td>0.995192</td>\n      <td>0.991362</td>\n    </tr>\n    <tr>\n      <th>PIT</th>\n      <td>0.860543</td>\n      <td>0.786876</td>\n      <td>0.966932</td>\n      <td>0.922951</td>\n      <td>0.998397</td>\n      <td>0.993266</td>\n    </tr>\n  </tbody>\n</table>\n</div>"
     },
     "execution_count": 66,
     "metadata": {},
     "output_type": "execute_result"
    }
   ],
   "source": [
    "proposals[1]"
   ]
  },
  {
   "cell_type": "markdown",
   "metadata": {},
   "source": [
    "The third dataframe has Tool as primary key and Project as secondary.\n",
    "\n",
    "Even though this dataframe don't lose precision (because it reflects the original schema), it's almost useless\n",
    "for the same reason; we aren't grouping anything, and so we aren't extracting any peculiar information."
   ]
  },
  {
   "cell_type": "code",
   "execution_count": 67,
   "metadata": {
    "pycharm": {
     "name": "#%%\n"
    }
   },
   "outputs": [
    {
     "data": {
      "text/plain": "                LineStud  BranchStud   LineDev  BranchDev   LineAll  BranchAll\nTool   Project                                                                \nJudy   Cli      1.000000    0.982456  0.965174   0.929825  1.000000   0.982456\n       Gson     0.984772    0.978723  0.964467   0.936170  0.994924   0.989362\n       Lang     0.750000    0.754286  0.971154   0.902857  0.975962   0.937143\nJumble Cli      0.880597    0.798246  0.965174   0.929825  1.000000   0.982456\n       Gson     0.954315    0.872340  0.964467   0.936170  1.000000   1.000000\n       Lang     0.581731    0.531429  0.971154   0.902857  0.990385   0.908571\nMajor  Cli      0.895522    0.894737  0.965174   0.929825  1.000000   0.991228\n       Gson     0.969543    0.978723  0.964467   0.936170  1.000000   1.000000\n       Lang     0.985577    0.982857  0.971154   0.902857  0.985577   0.982857\nPIT    Cli      0.791045    0.745614  0.965174   0.929825  1.000000   0.991228\n       Gson     0.949239    0.797872  0.964467   0.936170  1.000000   1.000000\n       Lang     0.841346    0.817143  0.971154   0.902857  0.995192   0.988571",
      "text/html": "<div>\n<style scoped>\n    .dataframe tbody tr th:only-of-type {\n        vertical-align: middle;\n    }\n\n    .dataframe tbody tr th {\n        vertical-align: top;\n    }\n\n    .dataframe thead th {\n        text-align: right;\n    }\n</style>\n<table border=\"1\" class=\"dataframe\">\n  <thead>\n    <tr style=\"text-align: right;\">\n      <th></th>\n      <th></th>\n      <th>LineStud</th>\n      <th>BranchStud</th>\n      <th>LineDev</th>\n      <th>BranchDev</th>\n      <th>LineAll</th>\n      <th>BranchAll</th>\n    </tr>\n    <tr>\n      <th>Tool</th>\n      <th>Project</th>\n      <th></th>\n      <th></th>\n      <th></th>\n      <th></th>\n      <th></th>\n      <th></th>\n    </tr>\n  </thead>\n  <tbody>\n    <tr>\n      <th rowspan=\"3\" valign=\"top\">Judy</th>\n      <th>Cli</th>\n      <td>1.000000</td>\n      <td>0.982456</td>\n      <td>0.965174</td>\n      <td>0.929825</td>\n      <td>1.000000</td>\n      <td>0.982456</td>\n    </tr>\n    <tr>\n      <th>Gson</th>\n      <td>0.984772</td>\n      <td>0.978723</td>\n      <td>0.964467</td>\n      <td>0.936170</td>\n      <td>0.994924</td>\n      <td>0.989362</td>\n    </tr>\n    <tr>\n      <th>Lang</th>\n      <td>0.750000</td>\n      <td>0.754286</td>\n      <td>0.971154</td>\n      <td>0.902857</td>\n      <td>0.975962</td>\n      <td>0.937143</td>\n    </tr>\n    <tr>\n      <th rowspan=\"3\" valign=\"top\">Jumble</th>\n      <th>Cli</th>\n      <td>0.880597</td>\n      <td>0.798246</td>\n      <td>0.965174</td>\n      <td>0.929825</td>\n      <td>1.000000</td>\n      <td>0.982456</td>\n    </tr>\n    <tr>\n      <th>Gson</th>\n      <td>0.954315</td>\n      <td>0.872340</td>\n      <td>0.964467</td>\n      <td>0.936170</td>\n      <td>1.000000</td>\n      <td>1.000000</td>\n    </tr>\n    <tr>\n      <th>Lang</th>\n      <td>0.581731</td>\n      <td>0.531429</td>\n      <td>0.971154</td>\n      <td>0.902857</td>\n      <td>0.990385</td>\n      <td>0.908571</td>\n    </tr>\n    <tr>\n      <th rowspan=\"3\" valign=\"top\">Major</th>\n      <th>Cli</th>\n      <td>0.895522</td>\n      <td>0.894737</td>\n      <td>0.965174</td>\n      <td>0.929825</td>\n      <td>1.000000</td>\n      <td>0.991228</td>\n    </tr>\n    <tr>\n      <th>Gson</th>\n      <td>0.969543</td>\n      <td>0.978723</td>\n      <td>0.964467</td>\n      <td>0.936170</td>\n      <td>1.000000</td>\n      <td>1.000000</td>\n    </tr>\n    <tr>\n      <th>Lang</th>\n      <td>0.985577</td>\n      <td>0.982857</td>\n      <td>0.971154</td>\n      <td>0.902857</td>\n      <td>0.985577</td>\n      <td>0.982857</td>\n    </tr>\n    <tr>\n      <th rowspan=\"3\" valign=\"top\">PIT</th>\n      <th>Cli</th>\n      <td>0.791045</td>\n      <td>0.745614</td>\n      <td>0.965174</td>\n      <td>0.929825</td>\n      <td>1.000000</td>\n      <td>0.991228</td>\n    </tr>\n    <tr>\n      <th>Gson</th>\n      <td>0.949239</td>\n      <td>0.797872</td>\n      <td>0.964467</td>\n      <td>0.936170</td>\n      <td>1.000000</td>\n      <td>1.000000</td>\n    </tr>\n    <tr>\n      <th>Lang</th>\n      <td>0.841346</td>\n      <td>0.817143</td>\n      <td>0.971154</td>\n      <td>0.902857</td>\n      <td>0.995192</td>\n      <td>0.988571</td>\n    </tr>\n  </tbody>\n</table>\n</div>"
     },
     "execution_count": 67,
     "metadata": {},
     "output_type": "execute_result"
    }
   ],
   "source": [
    "proposals[2]"
   ]
  },
  {
   "cell_type": "markdown",
   "metadata": {},
   "source": [
    "The fourth dataframe has Project as primary key and Tool as secondary.\n",
    "\n",
    "Similiar to the third one, it has the same pros and cons."
   ]
  },
  {
   "cell_type": "code",
   "execution_count": 68,
   "metadata": {
    "pycharm": {
     "name": "#%%\n"
    }
   },
   "outputs": [
    {
     "data": {
      "text/plain": "                LineStud  BranchStud   LineDev  BranchDev   LineAll  BranchAll\nProject Tool                                                                  \nCli     Judy    1.000000    0.982456  0.965174   0.929825  1.000000   0.982456\n        Jumble  0.880597    0.798246  0.965174   0.929825  1.000000   0.982456\n        Major   0.895522    0.894737  0.965174   0.929825  1.000000   0.991228\n        PIT     0.791045    0.745614  0.965174   0.929825  1.000000   0.991228\nGson    Judy    0.984772    0.978723  0.964467   0.936170  0.994924   0.989362\n        Jumble  0.954315    0.872340  0.964467   0.936170  1.000000   1.000000\n        Major   0.969543    0.978723  0.964467   0.936170  1.000000   1.000000\n        PIT     0.949239    0.797872  0.964467   0.936170  1.000000   1.000000\nLang    Judy    0.750000    0.754286  0.971154   0.902857  0.975962   0.937143\n        Jumble  0.581731    0.531429  0.971154   0.902857  0.990385   0.908571\n        Major   0.985577    0.982857  0.971154   0.902857  0.985577   0.982857\n        PIT     0.841346    0.817143  0.971154   0.902857  0.995192   0.988571",
      "text/html": "<div>\n<style scoped>\n    .dataframe tbody tr th:only-of-type {\n        vertical-align: middle;\n    }\n\n    .dataframe tbody tr th {\n        vertical-align: top;\n    }\n\n    .dataframe thead th {\n        text-align: right;\n    }\n</style>\n<table border=\"1\" class=\"dataframe\">\n  <thead>\n    <tr style=\"text-align: right;\">\n      <th></th>\n      <th></th>\n      <th>LineStud</th>\n      <th>BranchStud</th>\n      <th>LineDev</th>\n      <th>BranchDev</th>\n      <th>LineAll</th>\n      <th>BranchAll</th>\n    </tr>\n    <tr>\n      <th>Project</th>\n      <th>Tool</th>\n      <th></th>\n      <th></th>\n      <th></th>\n      <th></th>\n      <th></th>\n      <th></th>\n    </tr>\n  </thead>\n  <tbody>\n    <tr>\n      <th rowspan=\"4\" valign=\"top\">Cli</th>\n      <th>Judy</th>\n      <td>1.000000</td>\n      <td>0.982456</td>\n      <td>0.965174</td>\n      <td>0.929825</td>\n      <td>1.000000</td>\n      <td>0.982456</td>\n    </tr>\n    <tr>\n      <th>Jumble</th>\n      <td>0.880597</td>\n      <td>0.798246</td>\n      <td>0.965174</td>\n      <td>0.929825</td>\n      <td>1.000000</td>\n      <td>0.982456</td>\n    </tr>\n    <tr>\n      <th>Major</th>\n      <td>0.895522</td>\n      <td>0.894737</td>\n      <td>0.965174</td>\n      <td>0.929825</td>\n      <td>1.000000</td>\n      <td>0.991228</td>\n    </tr>\n    <tr>\n      <th>PIT</th>\n      <td>0.791045</td>\n      <td>0.745614</td>\n      <td>0.965174</td>\n      <td>0.929825</td>\n      <td>1.000000</td>\n      <td>0.991228</td>\n    </tr>\n    <tr>\n      <th rowspan=\"4\" valign=\"top\">Gson</th>\n      <th>Judy</th>\n      <td>0.984772</td>\n      <td>0.978723</td>\n      <td>0.964467</td>\n      <td>0.936170</td>\n      <td>0.994924</td>\n      <td>0.989362</td>\n    </tr>\n    <tr>\n      <th>Jumble</th>\n      <td>0.954315</td>\n      <td>0.872340</td>\n      <td>0.964467</td>\n      <td>0.936170</td>\n      <td>1.000000</td>\n      <td>1.000000</td>\n    </tr>\n    <tr>\n      <th>Major</th>\n      <td>0.969543</td>\n      <td>0.978723</td>\n      <td>0.964467</td>\n      <td>0.936170</td>\n      <td>1.000000</td>\n      <td>1.000000</td>\n    </tr>\n    <tr>\n      <th>PIT</th>\n      <td>0.949239</td>\n      <td>0.797872</td>\n      <td>0.964467</td>\n      <td>0.936170</td>\n      <td>1.000000</td>\n      <td>1.000000</td>\n    </tr>\n    <tr>\n      <th rowspan=\"4\" valign=\"top\">Lang</th>\n      <th>Judy</th>\n      <td>0.750000</td>\n      <td>0.754286</td>\n      <td>0.971154</td>\n      <td>0.902857</td>\n      <td>0.975962</td>\n      <td>0.937143</td>\n    </tr>\n    <tr>\n      <th>Jumble</th>\n      <td>0.581731</td>\n      <td>0.531429</td>\n      <td>0.971154</td>\n      <td>0.902857</td>\n      <td>0.990385</td>\n      <td>0.908571</td>\n    </tr>\n    <tr>\n      <th>Major</th>\n      <td>0.985577</td>\n      <td>0.982857</td>\n      <td>0.971154</td>\n      <td>0.902857</td>\n      <td>0.985577</td>\n      <td>0.982857</td>\n    </tr>\n    <tr>\n      <th>PIT</th>\n      <td>0.841346</td>\n      <td>0.817143</td>\n      <td>0.971154</td>\n      <td>0.902857</td>\n      <td>0.995192</td>\n      <td>0.988571</td>\n    </tr>\n  </tbody>\n</table>\n</div>"
     },
     "execution_count": 68,
     "metadata": {},
     "output_type": "execute_result"
    }
   ],
   "source": [
    "proposals[3]"
   ]
  },
  {
   "cell_type": "markdown",
   "metadata": {
    "pycharm": {
     "name": "#%% md\n"
    }
   },
   "source": [
    "After presenting the proposal, we chose the second (grouping over Tool)."
   ]
  },
  {
   "cell_type": "code",
   "execution_count": 69,
   "metadata": {
    "pycharm": {
     "name": "#%%\n"
    }
   },
   "outputs": [
    {
     "data": {
      "text/plain": "        LineStud  BranchStud   LineDev  BranchDev   LineAll  BranchAll\nTool                                                                  \nJudy    0.911591    0.905155  0.966932   0.922951  0.990295   0.969654\nJumble  0.805548    0.734005  0.966932   0.922951  0.996795   0.963676\nMajor   0.950214    0.952106  0.966932   0.922951  0.995192   0.991362\nPIT     0.860543    0.786876  0.966932   0.922951  0.998397   0.993266",
      "text/html": "<div>\n<style scoped>\n    .dataframe tbody tr th:only-of-type {\n        vertical-align: middle;\n    }\n\n    .dataframe tbody tr th {\n        vertical-align: top;\n    }\n\n    .dataframe thead th {\n        text-align: right;\n    }\n</style>\n<table border=\"1\" class=\"dataframe\">\n  <thead>\n    <tr style=\"text-align: right;\">\n      <th></th>\n      <th>LineStud</th>\n      <th>BranchStud</th>\n      <th>LineDev</th>\n      <th>BranchDev</th>\n      <th>LineAll</th>\n      <th>BranchAll</th>\n    </tr>\n    <tr>\n      <th>Tool</th>\n      <th></th>\n      <th></th>\n      <th></th>\n      <th></th>\n      <th></th>\n      <th></th>\n    </tr>\n  </thead>\n  <tbody>\n    <tr>\n      <th>Judy</th>\n      <td>0.911591</td>\n      <td>0.905155</td>\n      <td>0.966932</td>\n      <td>0.922951</td>\n      <td>0.990295</td>\n      <td>0.969654</td>\n    </tr>\n    <tr>\n      <th>Jumble</th>\n      <td>0.805548</td>\n      <td>0.734005</td>\n      <td>0.966932</td>\n      <td>0.922951</td>\n      <td>0.996795</td>\n      <td>0.963676</td>\n    </tr>\n    <tr>\n      <th>Major</th>\n      <td>0.950214</td>\n      <td>0.952106</td>\n      <td>0.966932</td>\n      <td>0.922951</td>\n      <td>0.995192</td>\n      <td>0.991362</td>\n    </tr>\n    <tr>\n      <th>PIT</th>\n      <td>0.860543</td>\n      <td>0.786876</td>\n      <td>0.966932</td>\n      <td>0.922951</td>\n      <td>0.998397</td>\n      <td>0.993266</td>\n    </tr>\n  </tbody>\n</table>\n</div>"
     },
     "execution_count": 69,
     "metadata": {},
     "output_type": "execute_result"
    }
   ],
   "source": [
    "proposal = proposals[1]\n",
    "coverage_grouped = proposal.copy()\n",
    "proposal"
   ]
  },
  {
   "cell_type": "markdown",
   "metadata": {
    "pycharm": {
     "name": "#%% md\n"
    }
   },
   "source": [
    "We note in the newly generated dataframe that, for Judy and Major, we have values very close to unity,\n",
    "even the branch coverage of Stud (Major) is higher than that of Dev.\n",
    "\n",
    "As for Jumble and Pit, however, we are more distant from the results of the Devs; this\n",
    "it may be a symptom of worse usability of the tools, but not necessarily - this\n",
    "in fact it depends on the Studs, if they have used these two tools together with the Dev testsuite\n",
    "to kill the generated mutants (and therefore have not tried to improve the results of theirs\n",
    "testsuite), or if the instrument was really inadequate and therefore the scores are lower."
   ]
  },
  {
   "cell_type": "markdown",
   "metadata": {
    "pycharm": {
     "name": "#%% md\n"
    }
   },
   "source": [
    " Let's now read the results of the students' survey in tabular form.\n",
    "\n",
    "The columns have been renamed due to their high length in Tool, Projects, and Mi (where Mi is the\n",
    "i-th metric requested in the survey; The seven metrics required in the survey are listed below\n",
    "to the students).\n",
    "\n",
    "- M1: How easy was it to install the mutation testing tool?\n",
    "- M2: How easy was it to configure the mutation testing tool to work with your subjects?\n",
    "- M3: How easy was it to generate mutants?\n",
    "- M4: How easy was it to determine what mutation operator generated which mutant?\n",
    "- M5: How easy was it to implement tests for killable generated mutants?\n",
    "- M6: How easy was it to identify equivalent generated mutants?\n",
    "- M7: How easy was it to use the mutation testing tool to run the tests against the generated mutants?"
   ]
  },
  {
   "cell_type": "code",
   "execution_count": 70,
   "metadata": {
    "pycharm": {
     "name": "#%%\n"
    }
   },
   "outputs": [
    {
     "name": "stdout",
     "output_type": "stream",
     "text": [
      "Old columns are Index(['Which mutation testing tool did you use? ',\n",
      "       'Which Defects4J project did you test?',\n",
      "       'How easy was it to install the mutation testing tool?',\n",
      "       'How easy was it to configure the mutation testing tool to work with your subjects?',\n",
      "       'How easy was it to generate mutants?',\n",
      "       'How easy was it to determine what mutation operator generated which mutant?',\n",
      "       'How easy was it to implement tests for killable generated mutants?',\n",
      "       'How easy was it to identify equivalent generated mutants?',\n",
      "       'How easy was it to use the mutation testing tool to run the tests against the generated mutants?'],\n",
      "      dtype='object')\n",
      "Changed columns\n"
     ]
    },
    {
     "data": {
      "text/plain": "      Tool    Projects  M1  M2  M3  M4  M5  M6  M7\n0     Judy   Cli, Gson   5   5   5   5   2   3   2\n1     Judy   Cli, Gson   5   4   3   1   1   1   5\n2     Judy   Cli, Gson   5   5   5   1   1   1   5\n3     Judy   Cli, Gson   4   4   3   2   1   1   1\n4     Judy   Cli, Lang   2   2   4   1   1   2   1\n5      PIT  Gson, Lang   3   3   5   4   5   2   5\n6      PIT   Cli, Gson   5   5   5   5   3   3   5\n7      PIT  Gson, Lang   5   5   5   5   4   3   5\n8      PIT   Cli, Lang   4   3   5   3   2   2   5\n9   Jumble   Cli, Lang   3   3   4   3   4   2   2\n10  Jumble   Cli, Gson   5   5   5   4   5   3   5\n11  Jumble   Cli, Lang   4   5   5   3   4   5   5\n12  Jumble   Cli, Lang   4   3   4   1   4   2   5\n13  Jumble  Gson, Lang   5   3   5   4   4   5   5\n14  Jumble  Gson, Lang   3   5   5   5   2   2   5\n15  Jumble  Gson, Lang   4   1   5   5   4   4   3\n16   Major   Cli, Gson   5   5   5   4   4   2   5\n17   Major   Cli, Lang   5   5   5   5   4   2   5\n18   Major   Cli, Gson   5   2   5   5   2   2   4\n19   Major  Gson, Lang   4   5   3   4   2   1   4",
      "text/html": "<div>\n<style scoped>\n    .dataframe tbody tr th:only-of-type {\n        vertical-align: middle;\n    }\n\n    .dataframe tbody tr th {\n        vertical-align: top;\n    }\n\n    .dataframe thead th {\n        text-align: right;\n    }\n</style>\n<table border=\"1\" class=\"dataframe\">\n  <thead>\n    <tr style=\"text-align: right;\">\n      <th></th>\n      <th>Tool</th>\n      <th>Projects</th>\n      <th>M1</th>\n      <th>M2</th>\n      <th>M3</th>\n      <th>M4</th>\n      <th>M5</th>\n      <th>M6</th>\n      <th>M7</th>\n    </tr>\n  </thead>\n  <tbody>\n    <tr>\n      <th>0</th>\n      <td>Judy</td>\n      <td>Cli, Gson</td>\n      <td>5</td>\n      <td>5</td>\n      <td>5</td>\n      <td>5</td>\n      <td>2</td>\n      <td>3</td>\n      <td>2</td>\n    </tr>\n    <tr>\n      <th>1</th>\n      <td>Judy</td>\n      <td>Cli, Gson</td>\n      <td>5</td>\n      <td>4</td>\n      <td>3</td>\n      <td>1</td>\n      <td>1</td>\n      <td>1</td>\n      <td>5</td>\n    </tr>\n    <tr>\n      <th>2</th>\n      <td>Judy</td>\n      <td>Cli, Gson</td>\n      <td>5</td>\n      <td>5</td>\n      <td>5</td>\n      <td>1</td>\n      <td>1</td>\n      <td>1</td>\n      <td>5</td>\n    </tr>\n    <tr>\n      <th>3</th>\n      <td>Judy</td>\n      <td>Cli, Gson</td>\n      <td>4</td>\n      <td>4</td>\n      <td>3</td>\n      <td>2</td>\n      <td>1</td>\n      <td>1</td>\n      <td>1</td>\n    </tr>\n    <tr>\n      <th>4</th>\n      <td>Judy</td>\n      <td>Cli, Lang</td>\n      <td>2</td>\n      <td>2</td>\n      <td>4</td>\n      <td>1</td>\n      <td>1</td>\n      <td>2</td>\n      <td>1</td>\n    </tr>\n    <tr>\n      <th>5</th>\n      <td>PIT</td>\n      <td>Gson, Lang</td>\n      <td>3</td>\n      <td>3</td>\n      <td>5</td>\n      <td>4</td>\n      <td>5</td>\n      <td>2</td>\n      <td>5</td>\n    </tr>\n    <tr>\n      <th>6</th>\n      <td>PIT</td>\n      <td>Cli, Gson</td>\n      <td>5</td>\n      <td>5</td>\n      <td>5</td>\n      <td>5</td>\n      <td>3</td>\n      <td>3</td>\n      <td>5</td>\n    </tr>\n    <tr>\n      <th>7</th>\n      <td>PIT</td>\n      <td>Gson, Lang</td>\n      <td>5</td>\n      <td>5</td>\n      <td>5</td>\n      <td>5</td>\n      <td>4</td>\n      <td>3</td>\n      <td>5</td>\n    </tr>\n    <tr>\n      <th>8</th>\n      <td>PIT</td>\n      <td>Cli, Lang</td>\n      <td>4</td>\n      <td>3</td>\n      <td>5</td>\n      <td>3</td>\n      <td>2</td>\n      <td>2</td>\n      <td>5</td>\n    </tr>\n    <tr>\n      <th>9</th>\n      <td>Jumble</td>\n      <td>Cli, Lang</td>\n      <td>3</td>\n      <td>3</td>\n      <td>4</td>\n      <td>3</td>\n      <td>4</td>\n      <td>2</td>\n      <td>2</td>\n    </tr>\n    <tr>\n      <th>10</th>\n      <td>Jumble</td>\n      <td>Cli, Gson</td>\n      <td>5</td>\n      <td>5</td>\n      <td>5</td>\n      <td>4</td>\n      <td>5</td>\n      <td>3</td>\n      <td>5</td>\n    </tr>\n    <tr>\n      <th>11</th>\n      <td>Jumble</td>\n      <td>Cli, Lang</td>\n      <td>4</td>\n      <td>5</td>\n      <td>5</td>\n      <td>3</td>\n      <td>4</td>\n      <td>5</td>\n      <td>5</td>\n    </tr>\n    <tr>\n      <th>12</th>\n      <td>Jumble</td>\n      <td>Cli, Lang</td>\n      <td>4</td>\n      <td>3</td>\n      <td>4</td>\n      <td>1</td>\n      <td>4</td>\n      <td>2</td>\n      <td>5</td>\n    </tr>\n    <tr>\n      <th>13</th>\n      <td>Jumble</td>\n      <td>Gson, Lang</td>\n      <td>5</td>\n      <td>3</td>\n      <td>5</td>\n      <td>4</td>\n      <td>4</td>\n      <td>5</td>\n      <td>5</td>\n    </tr>\n    <tr>\n      <th>14</th>\n      <td>Jumble</td>\n      <td>Gson, Lang</td>\n      <td>3</td>\n      <td>5</td>\n      <td>5</td>\n      <td>5</td>\n      <td>2</td>\n      <td>2</td>\n      <td>5</td>\n    </tr>\n    <tr>\n      <th>15</th>\n      <td>Jumble</td>\n      <td>Gson, Lang</td>\n      <td>4</td>\n      <td>1</td>\n      <td>5</td>\n      <td>5</td>\n      <td>4</td>\n      <td>4</td>\n      <td>3</td>\n    </tr>\n    <tr>\n      <th>16</th>\n      <td>Major</td>\n      <td>Cli, Gson</td>\n      <td>5</td>\n      <td>5</td>\n      <td>5</td>\n      <td>4</td>\n      <td>4</td>\n      <td>2</td>\n      <td>5</td>\n    </tr>\n    <tr>\n      <th>17</th>\n      <td>Major</td>\n      <td>Cli, Lang</td>\n      <td>5</td>\n      <td>5</td>\n      <td>5</td>\n      <td>5</td>\n      <td>4</td>\n      <td>2</td>\n      <td>5</td>\n    </tr>\n    <tr>\n      <th>18</th>\n      <td>Major</td>\n      <td>Cli, Gson</td>\n      <td>5</td>\n      <td>2</td>\n      <td>5</td>\n      <td>5</td>\n      <td>2</td>\n      <td>2</td>\n      <td>4</td>\n    </tr>\n    <tr>\n      <th>19</th>\n      <td>Major</td>\n      <td>Gson, Lang</td>\n      <td>4</td>\n      <td>5</td>\n      <td>3</td>\n      <td>4</td>\n      <td>2</td>\n      <td>1</td>\n      <td>4</td>\n    </tr>\n  </tbody>\n</table>\n</div>"
     },
     "execution_count": 70,
     "metadata": {},
     "output_type": "execute_result"
    }
   ],
   "source": [
    "survey = survey_original.iloc[:, 1:-4]\n",
    "cols = survey.columns\n",
    "print(f\"Old columns are {cols}\")\n",
    "_ = [\n",
    "    \"Tool\",\n",
    "    \"Projects\",\n",
    "    \"MInstall\",\n",
    "    \"MConfig\",\n",
    "    \"MGeneration\",\n",
    "    \"MOperator\",\n",
    "    \"MTests\",\n",
    "    \"MEquiv\",\n",
    "    \"MUsage\",\n",
    "]\n",
    "new_cols = [\n",
    "    \"Tool\",\n",
    "    \"Projects\",\n",
    "    \"M1\",\n",
    "    \"M2\",\n",
    "    \"M3\",\n",
    "    \"M4\",\n",
    "    \"M5\",\n",
    "    \"M6\",\n",
    "    \"M7\",\n",
    "]\n",
    "survey.columns = new_cols\n",
    "print(\"Changed columns\")\n",
    "\n",
    "# drop projects col\n",
    "# survey.drop(columns=\"Projects\", inplace=True)\n",
    "\n",
    "survey"
   ]
  },
  {
   "cell_type": "markdown",
   "metadata": {
    "pycharm": {
     "name": "#%% md\n"
    }
   },
   "source": [
    "As before, we could make considerations on which key (or keys) to use to group the obtained data;\n",
    "since, however, the purpose is to evaluate the performances obtained by the different groups on the single tool,\n",
    "the most logical choice is to group by Tool (excluding the Projects column in its entirety) e\n",
    "analyze the scores obtained.\n",
    "\n",
    "So let's set the Tool as an index, eliminating the Projects column."
   ]
  },
  {
   "cell_type": "code",
   "execution_count": 71,
   "metadata": {
    "pycharm": {
     "name": "#%%\n"
    }
   },
   "outputs": [
    {
     "data": {
      "text/plain": "        M1  M2  M3  M4  M5  M6  M7\nTool                              \nJudy     5   5   5   5   2   3   2\nJudy     5   4   3   1   1   1   5\nJudy     5   5   5   1   1   1   5\nJudy     4   4   3   2   1   1   1\nJudy     2   2   4   1   1   2   1\nPIT      3   3   5   4   5   2   5\nPIT      5   5   5   5   3   3   5\nPIT      5   5   5   5   4   3   5\nPIT      4   3   5   3   2   2   5\nJumble   3   3   4   3   4   2   2\nJumble   5   5   5   4   5   3   5\nJumble   4   5   5   3   4   5   5\nJumble   4   3   4   1   4   2   5\nJumble   5   3   5   4   4   5   5\nJumble   3   5   5   5   2   2   5\nJumble   4   1   5   5   4   4   3\nMajor    5   5   5   4   4   2   5\nMajor    5   5   5   5   4   2   5\nMajor    5   2   5   5   2   2   4\nMajor    4   5   3   4   2   1   4",
      "text/html": "<div>\n<style scoped>\n    .dataframe tbody tr th:only-of-type {\n        vertical-align: middle;\n    }\n\n    .dataframe tbody tr th {\n        vertical-align: top;\n    }\n\n    .dataframe thead th {\n        text-align: right;\n    }\n</style>\n<table border=\"1\" class=\"dataframe\">\n  <thead>\n    <tr style=\"text-align: right;\">\n      <th></th>\n      <th>M1</th>\n      <th>M2</th>\n      <th>M3</th>\n      <th>M4</th>\n      <th>M5</th>\n      <th>M6</th>\n      <th>M7</th>\n    </tr>\n    <tr>\n      <th>Tool</th>\n      <th></th>\n      <th></th>\n      <th></th>\n      <th></th>\n      <th></th>\n      <th></th>\n      <th></th>\n    </tr>\n  </thead>\n  <tbody>\n    <tr>\n      <th>Judy</th>\n      <td>5</td>\n      <td>5</td>\n      <td>5</td>\n      <td>5</td>\n      <td>2</td>\n      <td>3</td>\n      <td>2</td>\n    </tr>\n    <tr>\n      <th>Judy</th>\n      <td>5</td>\n      <td>4</td>\n      <td>3</td>\n      <td>1</td>\n      <td>1</td>\n      <td>1</td>\n      <td>5</td>\n    </tr>\n    <tr>\n      <th>Judy</th>\n      <td>5</td>\n      <td>5</td>\n      <td>5</td>\n      <td>1</td>\n      <td>1</td>\n      <td>1</td>\n      <td>5</td>\n    </tr>\n    <tr>\n      <th>Judy</th>\n      <td>4</td>\n      <td>4</td>\n      <td>3</td>\n      <td>2</td>\n      <td>1</td>\n      <td>1</td>\n      <td>1</td>\n    </tr>\n    <tr>\n      <th>Judy</th>\n      <td>2</td>\n      <td>2</td>\n      <td>4</td>\n      <td>1</td>\n      <td>1</td>\n      <td>2</td>\n      <td>1</td>\n    </tr>\n    <tr>\n      <th>PIT</th>\n      <td>3</td>\n      <td>3</td>\n      <td>5</td>\n      <td>4</td>\n      <td>5</td>\n      <td>2</td>\n      <td>5</td>\n    </tr>\n    <tr>\n      <th>PIT</th>\n      <td>5</td>\n      <td>5</td>\n      <td>5</td>\n      <td>5</td>\n      <td>3</td>\n      <td>3</td>\n      <td>5</td>\n    </tr>\n    <tr>\n      <th>PIT</th>\n      <td>5</td>\n      <td>5</td>\n      <td>5</td>\n      <td>5</td>\n      <td>4</td>\n      <td>3</td>\n      <td>5</td>\n    </tr>\n    <tr>\n      <th>PIT</th>\n      <td>4</td>\n      <td>3</td>\n      <td>5</td>\n      <td>3</td>\n      <td>2</td>\n      <td>2</td>\n      <td>5</td>\n    </tr>\n    <tr>\n      <th>Jumble</th>\n      <td>3</td>\n      <td>3</td>\n      <td>4</td>\n      <td>3</td>\n      <td>4</td>\n      <td>2</td>\n      <td>2</td>\n    </tr>\n    <tr>\n      <th>Jumble</th>\n      <td>5</td>\n      <td>5</td>\n      <td>5</td>\n      <td>4</td>\n      <td>5</td>\n      <td>3</td>\n      <td>5</td>\n    </tr>\n    <tr>\n      <th>Jumble</th>\n      <td>4</td>\n      <td>5</td>\n      <td>5</td>\n      <td>3</td>\n      <td>4</td>\n      <td>5</td>\n      <td>5</td>\n    </tr>\n    <tr>\n      <th>Jumble</th>\n      <td>4</td>\n      <td>3</td>\n      <td>4</td>\n      <td>1</td>\n      <td>4</td>\n      <td>2</td>\n      <td>5</td>\n    </tr>\n    <tr>\n      <th>Jumble</th>\n      <td>5</td>\n      <td>3</td>\n      <td>5</td>\n      <td>4</td>\n      <td>4</td>\n      <td>5</td>\n      <td>5</td>\n    </tr>\n    <tr>\n      <th>Jumble</th>\n      <td>3</td>\n      <td>5</td>\n      <td>5</td>\n      <td>5</td>\n      <td>2</td>\n      <td>2</td>\n      <td>5</td>\n    </tr>\n    <tr>\n      <th>Jumble</th>\n      <td>4</td>\n      <td>1</td>\n      <td>5</td>\n      <td>5</td>\n      <td>4</td>\n      <td>4</td>\n      <td>3</td>\n    </tr>\n    <tr>\n      <th>Major</th>\n      <td>5</td>\n      <td>5</td>\n      <td>5</td>\n      <td>4</td>\n      <td>4</td>\n      <td>2</td>\n      <td>5</td>\n    </tr>\n    <tr>\n      <th>Major</th>\n      <td>5</td>\n      <td>5</td>\n      <td>5</td>\n      <td>5</td>\n      <td>4</td>\n      <td>2</td>\n      <td>5</td>\n    </tr>\n    <tr>\n      <th>Major</th>\n      <td>5</td>\n      <td>2</td>\n      <td>5</td>\n      <td>5</td>\n      <td>2</td>\n      <td>2</td>\n      <td>4</td>\n    </tr>\n    <tr>\n      <th>Major</th>\n      <td>4</td>\n      <td>5</td>\n      <td>3</td>\n      <td>4</td>\n      <td>2</td>\n      <td>1</td>\n      <td>4</td>\n    </tr>\n  </tbody>\n</table>\n</div>"
     },
     "execution_count": 71,
     "metadata": {},
     "output_type": "execute_result"
    }
   ],
   "source": [
    "survey_df = survey.set_index(\"Tool\").drop(columns=\"Projects\")\n",
    "survey_df"
   ]
  },
  {
   "cell_type": "markdown",
   "metadata": {
    "pycharm": {
     "name": "#%% md\n"
    }
   },
   "source": [
    "Since, unlike the previous case, even within the same tool the opinions were very discordant, it was preferred to use the median instead of the average as a grouping operation, in order not to let outlier values particularly affect the result.\n",
    "\n",
    "In fact, we can see from the plot below how the error, for some tools and measures, is very high, and therefore the average would not approximate well the behavior of the series."
   ]
  },
  {
   "cell_type": "code",
   "execution_count": 72,
   "outputs": [
    {
     "data": {
      "text/plain": "<Figure size 432x288 with 1 Axes>",
      "image/png": "[encoded data removed]"
     },
     "metadata": {
      "needs_background": "light"
     },
     "output_type": "display_data"
    }
   ],
   "source": [
    "grouped = survey_df.groupby(\"Tool\")\n",
    "\n",
    "y = grouped.mean()\n",
    "err = grouped.std()\n",
    "\n",
    "# plot series mean with std err\n",
    "ax = y.plot.bar(yerr=err, grid=True, rot=0)\n",
    "ax.set_ylabel(\"Score\")\n",
    "ax.set_title(f\"Average with error\");"
   ],
   "metadata": {
    "collapsed": false,
    "pycharm": {
     "name": "#%%\n"
    }
   }
  },
  {
   "cell_type": "markdown",
   "metadata": {
    "pycharm": {
     "name": "#%% md\n"
    }
   },
   "source": [
    "Below is the dataframe obtained by grouping and median operation on the columns."
   ]
  },
  {
   "cell_type": "code",
   "execution_count": 73,
   "metadata": {
    "pycharm": {
     "name": "#%%\n"
    }
   },
   "outputs": [
    {
     "data": {
      "text/plain": "         M1   M2   M3   M4   M5   M6   M7\nTool                                     \nJudy    5.0  4.0  4.0  1.0  1.0  1.0  2.0\nJumble  4.0  3.0  5.0  4.0  4.0  3.0  5.0\nMajor   5.0  5.0  5.0  4.5  3.0  2.0  4.5\nPIT     4.5  4.0  5.0  4.5  3.5  2.5  5.0",
      "text/html": "<div>\n<style scoped>\n    .dataframe tbody tr th:only-of-type {\n        vertical-align: middle;\n    }\n\n    .dataframe tbody tr th {\n        vertical-align: top;\n    }\n\n    .dataframe thead th {\n        text-align: right;\n    }\n</style>\n<table border=\"1\" class=\"dataframe\">\n  <thead>\n    <tr style=\"text-align: right;\">\n      <th></th>\n      <th>M1</th>\n      <th>M2</th>\n      <th>M3</th>\n      <th>M4</th>\n      <th>M5</th>\n      <th>M6</th>\n      <th>M7</th>\n    </tr>\n    <tr>\n      <th>Tool</th>\n      <th></th>\n      <th></th>\n      <th></th>\n      <th></th>\n      <th></th>\n      <th></th>\n      <th></th>\n    </tr>\n  </thead>\n  <tbody>\n    <tr>\n      <th>Judy</th>\n      <td>5.0</td>\n      <td>4.0</td>\n      <td>4.0</td>\n      <td>1.0</td>\n      <td>1.0</td>\n      <td>1.0</td>\n      <td>2.0</td>\n    </tr>\n    <tr>\n      <th>Jumble</th>\n      <td>4.0</td>\n      <td>3.0</td>\n      <td>5.0</td>\n      <td>4.0</td>\n      <td>4.0</td>\n      <td>3.0</td>\n      <td>5.0</td>\n    </tr>\n    <tr>\n      <th>Major</th>\n      <td>5.0</td>\n      <td>5.0</td>\n      <td>5.0</td>\n      <td>4.5</td>\n      <td>3.0</td>\n      <td>2.0</td>\n      <td>4.5</td>\n    </tr>\n    <tr>\n      <th>PIT</th>\n      <td>4.5</td>\n      <td>4.0</td>\n      <td>5.0</td>\n      <td>4.5</td>\n      <td>3.5</td>\n      <td>2.5</td>\n      <td>5.0</td>\n    </tr>\n  </tbody>\n</table>\n</div>"
     },
     "execution_count": 73,
     "metadata": {},
     "output_type": "execute_result"
    }
   ],
   "source": [
    "survey_grouped = grouped.median()\n",
    "survey_grouped"
   ]
  },
  {
   "cell_type": "markdown",
   "metadata": {
    "pycharm": {
     "name": "#%% md\n"
    }
   },
   "source": [
    "Below you can see the dataframe obtained as a join of the two analyzed dataframes (survey and coverage),\n",
    "with the intersection performed on the Tool key."
   ]
  },
  {
   "cell_type": "code",
   "execution_count": 74,
   "metadata": {
    "pycharm": {
     "name": "#%%\n"
    }
   },
   "outputs": [
    {
     "data": {
      "text/plain": "         M1   M2   M3   M4   M5   M6   M7  LineStud  BranchStud   LineDev  \\\nTool                                                                        \nJudy    5.0  4.0  4.0  1.0  1.0  1.0  2.0  0.911591    0.905155  0.966932   \nJumble  4.0  3.0  5.0  4.0  4.0  3.0  5.0  0.805548    0.734005  0.966932   \nMajor   5.0  5.0  5.0  4.5  3.0  2.0  4.5  0.950214    0.952106  0.966932   \nPIT     4.5  4.0  5.0  4.5  3.5  2.5  5.0  0.860543    0.786876  0.966932   \n\n        BranchDev   LineAll  BranchAll  \nTool                                    \nJudy     0.922951  0.990295   0.969654  \nJumble   0.922951  0.996795   0.963676  \nMajor    0.922951  0.995192   0.991362  \nPIT      0.922951  0.998397   0.993266  ",
      "text/html": "<div>\n<style scoped>\n    .dataframe tbody tr th:only-of-type {\n        vertical-align: middle;\n    }\n\n    .dataframe tbody tr th {\n        vertical-align: top;\n    }\n\n    .dataframe thead th {\n        text-align: right;\n    }\n</style>\n<table border=\"1\" class=\"dataframe\">\n  <thead>\n    <tr style=\"text-align: right;\">\n      <th></th>\n      <th>M1</th>\n      <th>M2</th>\n      <th>M3</th>\n      <th>M4</th>\n      <th>M5</th>\n      <th>M6</th>\n      <th>M7</th>\n      <th>LineStud</th>\n      <th>BranchStud</th>\n      <th>LineDev</th>\n      <th>BranchDev</th>\n      <th>LineAll</th>\n      <th>BranchAll</th>\n    </tr>\n    <tr>\n      <th>Tool</th>\n      <th></th>\n      <th></th>\n      <th></th>\n      <th></th>\n      <th></th>\n      <th></th>\n      <th></th>\n      <th></th>\n      <th></th>\n      <th></th>\n      <th></th>\n      <th></th>\n      <th></th>\n    </tr>\n  </thead>\n  <tbody>\n    <tr>\n      <th>Judy</th>\n      <td>5.0</td>\n      <td>4.0</td>\n      <td>4.0</td>\n      <td>1.0</td>\n      <td>1.0</td>\n      <td>1.0</td>\n      <td>2.0</td>\n      <td>0.911591</td>\n      <td>0.905155</td>\n      <td>0.966932</td>\n      <td>0.922951</td>\n      <td>0.990295</td>\n      <td>0.969654</td>\n    </tr>\n    <tr>\n      <th>Jumble</th>\n      <td>4.0</td>\n      <td>3.0</td>\n      <td>5.0</td>\n      <td>4.0</td>\n      <td>4.0</td>\n      <td>3.0</td>\n      <td>5.0</td>\n      <td>0.805548</td>\n      <td>0.734005</td>\n      <td>0.966932</td>\n      <td>0.922951</td>\n      <td>0.996795</td>\n      <td>0.963676</td>\n    </tr>\n    <tr>\n      <th>Major</th>\n      <td>5.0</td>\n      <td>5.0</td>\n      <td>5.0</td>\n      <td>4.5</td>\n      <td>3.0</td>\n      <td>2.0</td>\n      <td>4.5</td>\n      <td>0.950214</td>\n      <td>0.952106</td>\n      <td>0.966932</td>\n      <td>0.922951</td>\n      <td>0.995192</td>\n      <td>0.991362</td>\n    </tr>\n    <tr>\n      <th>PIT</th>\n      <td>4.5</td>\n      <td>4.0</td>\n      <td>5.0</td>\n      <td>4.5</td>\n      <td>3.5</td>\n      <td>2.5</td>\n      <td>5.0</td>\n      <td>0.860543</td>\n      <td>0.786876</td>\n      <td>0.966932</td>\n      <td>0.922951</td>\n      <td>0.998397</td>\n      <td>0.993266</td>\n    </tr>\n  </tbody>\n</table>\n</div>"
     },
     "execution_count": 74,
     "metadata": {},
     "output_type": "execute_result"
    }
   ],
   "source": [
    "joined = survey_grouped.join(coverage_grouped)\n",
    "joined"
   ]
  },
  {
   "cell_type": "code",
   "execution_count": 86,
   "outputs": [
    {
     "data": {
      "text/plain": "         M1   M2   M3   M4   M5   M6   M7  LineStud  BranchStud   LineDev  \\\nTool                                                                        \nJudy    5.0  4.0  4.0  1.0  1.0  1.0  2.0  0.911591    0.905155  0.966932   \nJumble  4.0  3.0  5.0  4.0  4.0  3.0  5.0  0.805548    0.734005  0.966932   \nMajor   5.0  5.0  5.0  4.5  3.0  2.0  4.5  0.950214    0.952106  0.966932   \nPIT     4.5  4.0  5.0  4.5  3.5  2.5  5.0  0.860543    0.786876  0.966932   \n\n        BranchDev   LineAll  BranchAll  LineDelta  LineDeltaPerc  BranchDelta  \\\nTool                                                                            \nJudy     0.922951  0.990295   0.969654   0.023363       0.742504     0.046703   \nJumble   0.922951  0.996795   0.963676   0.029863       0.949070     0.040725   \nMajor    0.922951  0.995192   0.991362   0.028261       0.898139     0.068411   \nPIT      0.922951  0.998397   0.993266   0.031466       1.000000     0.070316   \n\n        BranchDeltaPerc  \nTool                     \nJudy           0.664188  \nJumble         0.579175  \nMajor          0.972911  \nPIT            1.000000  ",
      "text/html": "<div>\n<style scoped>\n    .dataframe tbody tr th:only-of-type {\n        vertical-align: middle;\n    }\n\n    .dataframe tbody tr th {\n        vertical-align: top;\n    }\n\n    .dataframe thead th {\n        text-align: right;\n    }\n</style>\n<table border=\"1\" class=\"dataframe\">\n  <thead>\n    <tr style=\"text-align: right;\">\n      <th></th>\n      <th>M1</th>\n      <th>M2</th>\n      <th>M3</th>\n      <th>M4</th>\n      <th>M5</th>\n      <th>M6</th>\n      <th>M7</th>\n      <th>LineStud</th>\n      <th>BranchStud</th>\n      <th>LineDev</th>\n      <th>BranchDev</th>\n      <th>LineAll</th>\n      <th>BranchAll</th>\n      <th>LineDelta</th>\n      <th>LineDeltaPerc</th>\n      <th>BranchDelta</th>\n      <th>BranchDeltaPerc</th>\n    </tr>\n    <tr>\n      <th>Tool</th>\n      <th></th>\n      <th></th>\n      <th></th>\n      <th></th>\n      <th></th>\n      <th></th>\n      <th></th>\n      <th></th>\n      <th></th>\n      <th></th>\n      <th></th>\n      <th></th>\n      <th></th>\n      <th></th>\n      <th></th>\n      <th></th>\n      <th></th>\n    </tr>\n  </thead>\n  <tbody>\n    <tr>\n      <th>Judy</th>\n      <td>5.0</td>\n      <td>4.0</td>\n      <td>4.0</td>\n      <td>1.0</td>\n      <td>1.0</td>\n      <td>1.0</td>\n      <td>2.0</td>\n      <td>0.911591</td>\n      <td>0.905155</td>\n      <td>0.966932</td>\n      <td>0.922951</td>\n      <td>0.990295</td>\n      <td>0.969654</td>\n      <td>0.023363</td>\n      <td>0.742504</td>\n      <td>0.046703</td>\n      <td>0.664188</td>\n    </tr>\n    <tr>\n      <th>Jumble</th>\n      <td>4.0</td>\n      <td>3.0</td>\n      <td>5.0</td>\n      <td>4.0</td>\n      <td>4.0</td>\n      <td>3.0</td>\n      <td>5.0</td>\n      <td>0.805548</td>\n      <td>0.734005</td>\n      <td>0.966932</td>\n      <td>0.922951</td>\n      <td>0.996795</td>\n      <td>0.963676</td>\n      <td>0.029863</td>\n      <td>0.949070</td>\n      <td>0.040725</td>\n      <td>0.579175</td>\n    </tr>\n    <tr>\n      <th>Major</th>\n      <td>5.0</td>\n      <td>5.0</td>\n      <td>5.0</td>\n      <td>4.5</td>\n      <td>3.0</td>\n      <td>2.0</td>\n      <td>4.5</td>\n      <td>0.950214</td>\n      <td>0.952106</td>\n      <td>0.966932</td>\n      <td>0.922951</td>\n      <td>0.995192</td>\n      <td>0.991362</td>\n      <td>0.028261</td>\n      <td>0.898139</td>\n      <td>0.068411</td>\n      <td>0.972911</td>\n    </tr>\n    <tr>\n      <th>PIT</th>\n      <td>4.5</td>\n      <td>4.0</td>\n      <td>5.0</td>\n      <td>4.5</td>\n      <td>3.5</td>\n      <td>2.5</td>\n      <td>5.0</td>\n      <td>0.860543</td>\n      <td>0.786876</td>\n      <td>0.966932</td>\n      <td>0.922951</td>\n      <td>0.998397</td>\n      <td>0.993266</td>\n      <td>0.031466</td>\n      <td>1.000000</td>\n      <td>0.070316</td>\n      <td>1.000000</td>\n    </tr>\n  </tbody>\n</table>\n</div>"
     },
     "execution_count": 86,
     "metadata": {},
     "output_type": "execute_result"
    }
   ],
   "source": [
    "j = joined.copy()\n",
    "\n",
    "# create line coverage delta\n",
    "j[\"LineDelta\"] = j[\"LineAll\"] - j[\"LineDev\"]\n",
    "j[\"LineDeltaPerc\"] = j[\"LineDelta\"] / max(j[\"LineDelta\"])\n",
    "\n",
    "# create branch coverage delta\n",
    "j[\"BranchDelta\"] = j[\"BranchAll\"] - j[\"BranchDev\"]\n",
    "j[\"BranchDeltaPerc\"] = j[\"BranchDelta\"] / max(j[\"BranchDelta\"])\n",
    "\n",
    "# visualize\n",
    "j"
   ],
   "metadata": {
    "collapsed": false,
    "pycharm": {
     "name": "#%%\n"
    }
   }
  }
 ],
 "metadata": {
  "kernelspec": {
   "display_name": "Python 3",
   "language": "python",
   "name": "python3"
  },
  "language_info": {
   "codemirror_mode": {
    "name": "ipython",
    "version": 3
   },
   "file_extension": ".py",
   "mimetype": "text/x-python",
   "name": "python",
   "nbconvert_exporter": "python",
   "pygments_lexer": "ipython3",
   "version": "3.8.1"
  }
 },
 "nbformat": 4,
 "nbformat_minor": 1
}